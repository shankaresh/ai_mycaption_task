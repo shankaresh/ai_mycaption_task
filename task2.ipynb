{
 "cells": [
  {
   "cell_type": "code",
   "execution_count": 1,
   "metadata": {},
   "outputs": [
    {
     "name": "stdout",
     "output_type": "stream",
     "text": [
      "1\n",
      "5\n"
     ]
    }
   ],
   "source": [
    "li=[1,2,6,8,3,5] #list\n",
    "print(li[0]) #first element in list\n",
    "print(li[len(li)-1]) #last element in list"
   ]
  },
  {
   "cell_type": "code",
   "execution_count": 2,
   "metadata": {},
   "outputs": [
    {
     "name": "stdout",
     "output_type": "stream",
     "text": [
      "The first 3 elements are : 1 2 6\n"
     ]
    }
   ],
   "source": [
    "var1, var2, var3 = [li[i] for i in (0, 1, 2)] #accessing first 3 element by tuple value as list index\n",
    "print (\"The first 3 elements are : \"+str(var1)+\" \"+str(var2)+\" \"+str(var3)) #display as string"
   ]
  },
  {
   "cell_type": "code",
   "execution_count": 4,
   "metadata": {},
   "outputs": [
    {
     "name": "stdout",
     "output_type": "stream",
     "text": [
      "Dictionary : {1: 1, 2: 4, 3: 9, 4: 16, 5: 25, 6: 36}\n",
      "after deleting key 1 : {2: 4, 3: 9, 4: 16, 5: 25, 6: 36}\n",
      "after deleting last key : {2: 4, 3: 9, 4: 16, 5: 25}\n"
     ]
    }
   ],
   "source": [
    "squares = {1: 1, 2: 4, 3: 9, 4: 16, 5: 25, 6: 36} #dictionary {key:value}\n",
    "print(\"Dictionary :\",squares)\n",
    "\n",
    "squares.pop(1) #deleting key 1\n",
    "print(\"after deleting key 1 :\",squares)\n",
    "\n",
    "#to delete last key\n",
    "squares.popitem()\n",
    "\n",
    "print(\"after deleting last key :\",squares)"
   ]
  },
  {
   "cell_type": "code",
   "execution_count": null,
   "metadata": {},
   "outputs": [],
   "source": []
  }
 ],
 "metadata": {
  "kernelspec": {
   "display_name": "Python 3",
   "language": "python",
   "name": "python3"
  },
  "language_info": {
   "codemirror_mode": {
    "name": "ipython",
    "version": 3
   },
   "file_extension": ".py",
   "mimetype": "text/x-python",
   "name": "python",
   "nbconvert_exporter": "python",
   "pygments_lexer": "ipython3",
   "version": "3.6.5"
  }
 },
 "nbformat": 4,
 "nbformat_minor": 2
}
