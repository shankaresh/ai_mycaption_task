{
 "cells": [
  {
   "cell_type": "code",
   "execution_count": 1,
   "metadata": {},
   "outputs": [
    {
     "name": "stdout",
     "output_type": "stream",
     "text": [
      "[25,-7,99,-9,0]\n",
      "[<map object at 0x000001E8E07F6390>, <map object at 0x000001E8E07F62E8>, <map object at 0x000001E8E07F63C8>, <map object at 0x000001E8E07F6438>, <map object at 0x000001E8E07F64A8>, <map object at 0x000001E8E07F64E0>, <map object at 0x000001E8E07F6550>, <map object at 0x000001E8E07F65C0>, <map object at 0x000001E8E07F6630>, <map object at 0x000001E8E07F66A0>, <map object at 0x000001E8E07F6710>, <map object at 0x000001E8E07F6780>, <map object at 0x000001E8E07F67F0>, <map object at 0x000001E8E07F6860>, <map object at 0x000001E8E07F68D0>]\n"
     ]
    }
   ],
   "source": [
    "inp=[map(int,item) for item in input()]\n",
    "print(inp)"
   ]
  },
  {
   "cell_type": "code",
   "execution_count": 2,
   "metadata": {},
   "outputs": [
    {
     "name": "stdout",
     "output_type": "stream",
     "text": [
      "[25,-7,99,-9,0]\n",
      "[25,-7,99,-9,0]\n",
      "[ 2 5 , - 7 , 9 9 , - 9 , 0 ]\n"
     ]
    }
   ],
   "source": [
    "inp=input()\n",
    "print(inp)\n",
    "print(*inp)"
   ]
  },
  {
   "cell_type": "code",
   "execution_count": 4,
   "metadata": {},
   "outputs": [
    {
     "name": "stdout",
     "output_type": "stream",
     "text": [
      "[12, -7, 5, 64, -14]\n",
      "[12, 5, 64]\n"
     ]
    }
   ],
   "source": [
    "inp=[int(x.strip()) for x in input().strip()[1:-1].split(\",\")]\n",
    "outp=[]\n",
    "for i in inp:\n",
    "    if i>0:\n",
    "        outp.append(i)\n",
    "print(outp)"
   ]
  },
  {
   "cell_type": "code",
   "execution_count": null,
   "metadata": {},
   "outputs": [],
   "source": []
  }
 ],
 "metadata": {
  "kernelspec": {
   "display_name": "Python 3",
   "language": "python",
   "name": "python3"
  },
  "language_info": {
   "codemirror_mode": {
    "name": "ipython",
    "version": 3
   },
   "file_extension": ".py",
   "mimetype": "text/x-python",
   "name": "python",
   "nbconvert_exporter": "python",
   "pygments_lexer": "ipython3",
   "version": "3.6.5"
  }
 },
 "nbformat": 4,
 "nbformat_minor": 2
}
